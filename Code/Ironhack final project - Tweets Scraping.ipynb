{
 "cells": [
  {
   "cell_type": "code",
   "execution_count": 1,
   "id": "ffdf8fb0",
   "metadata": {},
   "outputs": [],
   "source": [
    "# import libraries\n",
    "import tweepy \n",
    "import pandas as pd"
   ]
  },
  {
   "cell_type": "code",
   "execution_count": 2,
   "id": "d875cbe3",
   "metadata": {},
   "outputs": [],
   "source": [
    "import time"
   ]
  },
  {
   "cell_type": "code",
   "execution_count": 3,
   "id": "222a8ce1",
   "metadata": {},
   "outputs": [],
   "source": [
    "# import API key\n",
    "API_key = \"eSllXPQ0Qy3QkWIQkRapJ4GU5\"\n",
    "API_secret_key = \"nQfCTLqqKAOeFagqCiErmkYeOc9gYWiS7VSDdtfwmAOr7MNQHh\"\n",
    "access_token = \"43769037-l8WkCIlmgsftFgyJ08XXT35NHYEQYtwWUVbHTmkeG\"\n",
    "access_token_secret = \"k3ZnSXU6oTT2FUsgitYTMwJoB99q3lujkHifEkbw4pPrh\""
   ]
  },
  {
   "cell_type": "code",
   "execution_count": 4,
   "id": "38834756",
   "metadata": {},
   "outputs": [],
   "source": [
    "auth = tweepy.OAuthHandler(API_key, API_secret_key)\n",
    "auth.set_access_token(access_token, access_token_secret)\n",
    "api = tweepy.API(auth,wait_on_rate_limit=True)"
   ]
  },
  {
   "cell_type": "code",
   "execution_count": null,
   "id": "3c5e5aa8",
   "metadata": {},
   "outputs": [],
   "source": [
    "# get tweets from Elon with sleep timer\n",
    "username = 'elonmusk'\n",
    "count = 900\n",
    "df_total = pd.DataFrame()\n",
    "for i in range(3):\n",
    "    try:\n",
    "        tweets = tweepy.Cursor(api.user_timeline,id=username).items(count)\n",
    "        tweets_list_elon = [[tweet.created_at, tweet.id, tweet.text] for tweet in tweets]\n",
    "        tweets_elon = pd.DataFrame(tweets_list_elon)\n",
    "        df_total.append(tweets_elon)\n",
    "        time.sleep(15*60)\n",
    "    \n",
    "    except BaseException as e:\n",
    "        print('failed on_status,',str(e))\n",
    "    \n",
    "df_total.to_csv('./elon_tweets_' + time.strftime(\"%Y%m%d-%H%M%S\") + '.csv')"
   ]
  },
  {
   "cell_type": "code",
   "execution_count": null,
   "id": "b804cffa",
   "metadata": {},
   "outputs": [],
   "source": [
    "# check\n",
    "tweets_elon.info"
   ]
  },
  {
   "cell_type": "code",
   "execution_count": null,
   "id": "18bce399",
   "metadata": {},
   "outputs": [],
   "source": [
    "# export to csv\n",
    "tweets_elon.to_csv(\"tweets_elon.csv\")"
   ]
  },
  {
   "cell_type": "code",
   "execution_count": null,
   "id": "94567f8d",
   "metadata": {},
   "outputs": [],
   "source": [
    "# check\n",
    "tweets_elon.head()"
   ]
  },
  {
   "cell_type": "code",
   "execution_count": null,
   "id": "72575391",
   "metadata": {},
   "outputs": [],
   "source": [
    "# create bool variables for tweet by Elon\n",
    "import numpy as np\n",
    "tweets_elon[\"bool\"] = pd.to_numeric(tweets_elon.tweet, errors='coerce').notnull()"
   ]
  },
  {
   "cell_type": "code",
   "execution_count": null,
   "id": "ae40faa3",
   "metadata": {},
   "outputs": [],
   "source": [
    "# check\n",
    "tweets_elon.head()"
   ]
  },
  {
   "cell_type": "code",
   "execution_count": null,
   "id": "57f32e1f",
   "metadata": {},
   "outputs": [],
   "source": [
    "# create dummy variables for tweet by Elon\n",
    "tweets_elon.replace(False, 1, inplace=True)"
   ]
  },
  {
   "cell_type": "code",
   "execution_count": null,
   "id": "3653262c",
   "metadata": {},
   "outputs": [],
   "source": [
    "# check\n",
    "tweets_elon.head()"
   ]
  },
  {
   "cell_type": "code",
   "execution_count": null,
   "id": "b350cebd",
   "metadata": {},
   "outputs": [],
   "source": [
    "# rename columns\n",
    "tweets_elon.columns = ['date', 'code', 'tweet']"
   ]
  },
  {
   "cell_type": "code",
   "execution_count": null,
   "id": "2f972ce7",
   "metadata": {},
   "outputs": [],
   "source": [
    "# get tweets with text 'Bitcoin' with sleep timer\n",
    "import pandas as pd\n",
    "import time\n",
    "import datetime\n",
    "\n",
    "text_query = 'Bitcoin'\n",
    "count = 1000\n",
    "df_total = pd.DataFrame()\n",
    "for i in range(3):\n",
    "    try:\n",
    "        tweets = tweepy.Cursor(api.search,q=text_query).items(count)\n",
    "        tweets_list_BTC = [[tweet.created_at, tweet.id, tweet.text] for tweet in tweets]\n",
    "        df_tweets_BTC = pd.DataFrame(tweets_list_BTC)\n",
    "        df_total.append(df_tweets_BTC)\n",
    "    \n",
    "    except BaseException as e:\n",
    "        print('failed on_status,',str(e))\n",
    "        \n",
    "\n",
    "df_tweets_BTC.to_csv('./BTC_tweets_' + time.strftime(\"%Y%m%d-%H%M%S\") + '.csv')"
   ]
  },
  {
   "cell_type": "code",
   "execution_count": null,
   "id": "0af4b293",
   "metadata": {},
   "outputs": [],
   "source": [
    "# check\n",
    "df_tweets_BTC.info()"
   ]
  },
  {
   "cell_type": "code",
   "execution_count": null,
   "id": "6e24388a",
   "metadata": {},
   "outputs": [],
   "source": [
    "## export to csv\n",
    "df_tweets_BTC.to_csv(\"tweets_BTC.csv\")"
   ]
  }
 ],
 "metadata": {
  "kernelspec": {
   "display_name": "Python 3",
   "language": "python",
   "name": "python3"
  },
  "language_info": {
   "codemirror_mode": {
    "name": "ipython",
    "version": 3
   },
   "file_extension": ".py",
   "mimetype": "text/x-python",
   "name": "python",
   "nbconvert_exporter": "python",
   "pygments_lexer": "ipython3",
   "version": "3.8.10"
  }
 },
 "nbformat": 4,
 "nbformat_minor": 5
}
