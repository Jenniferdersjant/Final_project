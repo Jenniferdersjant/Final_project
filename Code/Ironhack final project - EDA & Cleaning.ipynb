{
 "cells": [
  {
   "cell_type": "code",
   "execution_count": 1,
   "id": "28cffc1a",
   "metadata": {},
   "outputs": [],
   "source": [
    "## importing libraries\n",
    "\n",
    "import pandas as pd\n",
    "import numpy as np\n",
    "import time\n",
    "from datetime import datetime"
   ]
  },
  {
   "cell_type": "code",
   "execution_count": 2,
   "id": "f7f42218",
   "metadata": {},
   "outputs": [],
   "source": [
    "## importing BTC tweets csv\n",
    "df_BTCtweets = pd.read_csv (r\"C:\\Users\\nldersj1\\OneDrive - EY\\Documents\\Ironhack\\tweets_BTC.csv\")"
   ]
  },
  {
   "cell_type": "code",
   "execution_count": 3,
   "id": "7733c466",
   "metadata": {},
   "outputs": [
    {
     "data": {
      "text/html": [
       "<div>\n",
       "<style scoped>\n",
       "    .dataframe tbody tr th:only-of-type {\n",
       "        vertical-align: middle;\n",
       "    }\n",
       "\n",
       "    .dataframe tbody tr th {\n",
       "        vertical-align: top;\n",
       "    }\n",
       "\n",
       "    .dataframe thead th {\n",
       "        text-align: right;\n",
       "    }\n",
       "</style>\n",
       "<table border=\"1\" class=\"dataframe\">\n",
       "  <thead>\n",
       "    <tr style=\"text-align: right;\">\n",
       "      <th></th>\n",
       "      <th>Unnamed: 0</th>\n",
       "      <th>0</th>\n",
       "      <th>1</th>\n",
       "      <th>2</th>\n",
       "    </tr>\n",
       "  </thead>\n",
       "  <tbody>\n",
       "    <tr>\n",
       "      <th>0</th>\n",
       "      <td>0</td>\n",
       "      <td>2021-08-23 19:03:09</td>\n",
       "      <td>1429881915167977475</td>\n",
       "      <td>Unless you swing trade #Bitcoin shut the fuck ...</td>\n",
       "    </tr>\n",
       "    <tr>\n",
       "      <th>1</th>\n",
       "      <td>1</td>\n",
       "      <td>2021-08-23 19:03:08</td>\n",
       "      <td>1429881911036551173</td>\n",
       "      <td>RT @BTCTN: The Swedish government must return ...</td>\n",
       "    </tr>\n",
       "    <tr>\n",
       "      <th>2</th>\n",
       "      <td>2</td>\n",
       "      <td>2021-08-23 19:03:07</td>\n",
       "      <td>1429881907991429124</td>\n",
       "      <td>RT @airdropinspect: New airdrop: TroyTrade New...</td>\n",
       "    </tr>\n",
       "    <tr>\n",
       "      <th>3</th>\n",
       "      <td>3</td>\n",
       "      <td>2021-08-23 19:03:07</td>\n",
       "      <td>1429881907114876930</td>\n",
       "      <td>RT @BigCheds: $BTC #Bitcoin</td>\n",
       "    </tr>\n",
       "    <tr>\n",
       "      <th>4</th>\n",
       "      <td>4</td>\n",
       "      <td>2021-08-23 19:03:07</td>\n",
       "      <td>1429881906963927040</td>\n",
       "      <td>Кодовая база приложения @Sentinel_co $dVPN пол...</td>\n",
       "    </tr>\n",
       "  </tbody>\n",
       "</table>\n",
       "</div>"
      ],
      "text/plain": [
       "   Unnamed: 0                    0                    1  \\\n",
       "0           0  2021-08-23 19:03:09  1429881915167977475   \n",
       "1           1  2021-08-23 19:03:08  1429881911036551173   \n",
       "2           2  2021-08-23 19:03:07  1429881907991429124   \n",
       "3           3  2021-08-23 19:03:07  1429881907114876930   \n",
       "4           4  2021-08-23 19:03:07  1429881906963927040   \n",
       "\n",
       "                                                   2  \n",
       "0  Unless you swing trade #Bitcoin shut the fuck ...  \n",
       "1  RT @BTCTN: The Swedish government must return ...  \n",
       "2  RT @airdropinspect: New airdrop: TroyTrade New...  \n",
       "3                        RT @BigCheds: $BTC #Bitcoin  \n",
       "4  Кодовая база приложения @Sentinel_co $dVPN пол...  "
      ]
     },
     "execution_count": 3,
     "metadata": {},
     "output_type": "execute_result"
    }
   ],
   "source": [
    "#check import\n",
    "df_BTCtweets.head()"
   ]
  },
  {
   "cell_type": "code",
   "execution_count": 4,
   "id": "d490568b",
   "metadata": {},
   "outputs": [
    {
     "ename": "ValueError",
     "evalue": "Length mismatch: Expected axis has 4 elements, new values have 6 elements",
     "output_type": "error",
     "traceback": [
      "\u001b[1;31m---------------------------------------------------------------------------\u001b[0m",
      "\u001b[1;31mValueError\u001b[0m                                Traceback (most recent call last)",
      "\u001b[1;32m<ipython-input-4-720630b81dbf>\u001b[0m in \u001b[0;36m<module>\u001b[1;34m\u001b[0m\n\u001b[0;32m      1\u001b[0m \u001b[1;31m## change column names\u001b[0m\u001b[1;33m\u001b[0m\u001b[1;33m\u001b[0m\u001b[1;33m\u001b[0m\u001b[0m\n\u001b[1;32m----> 2\u001b[1;33m \u001b[0mdf_BTCtweets\u001b[0m\u001b[1;33m.\u001b[0m\u001b[0mcolumns\u001b[0m \u001b[1;33m=\u001b[0m \u001b[1;33m[\u001b[0m\u001b[1;34m'Id'\u001b[0m\u001b[1;33m,\u001b[0m\u001b[1;34m'Date'\u001b[0m\u001b[1;33m,\u001b[0m \u001b[1;34m'Code'\u001b[0m\u001b[1;33m,\u001b[0m \u001b[1;34m'Tweet'\u001b[0m\u001b[1;33m,\u001b[0m \u001b[1;34m'Tweetcount'\u001b[0m\u001b[1;33m,\u001b[0m \u001b[1;34m'Sentiment'\u001b[0m\u001b[1;33m]\u001b[0m\u001b[1;33m\u001b[0m\u001b[1;33m\u001b[0m\u001b[0m\n\u001b[0m",
      "\u001b[1;32m~\\Anaconda3\\lib\\site-packages\\pandas\\core\\generic.py\u001b[0m in \u001b[0;36m__setattr__\u001b[1;34m(self, name, value)\u001b[0m\n\u001b[0;32m   5489\u001b[0m         \u001b[1;32mtry\u001b[0m\u001b[1;33m:\u001b[0m\u001b[1;33m\u001b[0m\u001b[1;33m\u001b[0m\u001b[0m\n\u001b[0;32m   5490\u001b[0m             \u001b[0mobject\u001b[0m\u001b[1;33m.\u001b[0m\u001b[0m__getattribute__\u001b[0m\u001b[1;33m(\u001b[0m\u001b[0mself\u001b[0m\u001b[1;33m,\u001b[0m \u001b[0mname\u001b[0m\u001b[1;33m)\u001b[0m\u001b[1;33m\u001b[0m\u001b[1;33m\u001b[0m\u001b[0m\n\u001b[1;32m-> 5491\u001b[1;33m             \u001b[1;32mreturn\u001b[0m \u001b[0mobject\u001b[0m\u001b[1;33m.\u001b[0m\u001b[0m__setattr__\u001b[0m\u001b[1;33m(\u001b[0m\u001b[0mself\u001b[0m\u001b[1;33m,\u001b[0m \u001b[0mname\u001b[0m\u001b[1;33m,\u001b[0m \u001b[0mvalue\u001b[0m\u001b[1;33m)\u001b[0m\u001b[1;33m\u001b[0m\u001b[1;33m\u001b[0m\u001b[0m\n\u001b[0m\u001b[0;32m   5492\u001b[0m         \u001b[1;32mexcept\u001b[0m \u001b[0mAttributeError\u001b[0m\u001b[1;33m:\u001b[0m\u001b[1;33m\u001b[0m\u001b[1;33m\u001b[0m\u001b[0m\n\u001b[0;32m   5493\u001b[0m             \u001b[1;32mpass\u001b[0m\u001b[1;33m\u001b[0m\u001b[1;33m\u001b[0m\u001b[0m\n",
      "\u001b[1;32m~\\Anaconda3\\lib\\site-packages\\pandas\\_libs\\properties.pyx\u001b[0m in \u001b[0;36mpandas._libs.properties.AxisProperty.__set__\u001b[1;34m()\u001b[0m\n",
      "\u001b[1;32m~\\Anaconda3\\lib\\site-packages\\pandas\\core\\generic.py\u001b[0m in \u001b[0;36m_set_axis\u001b[1;34m(self, axis, labels)\u001b[0m\n\u001b[0;32m    761\u001b[0m     \u001b[1;32mdef\u001b[0m \u001b[0m_set_axis\u001b[0m\u001b[1;33m(\u001b[0m\u001b[0mself\u001b[0m\u001b[1;33m,\u001b[0m \u001b[0maxis\u001b[0m\u001b[1;33m:\u001b[0m \u001b[0mint\u001b[0m\u001b[1;33m,\u001b[0m \u001b[0mlabels\u001b[0m\u001b[1;33m:\u001b[0m \u001b[0mIndex\u001b[0m\u001b[1;33m)\u001b[0m \u001b[1;33m->\u001b[0m \u001b[1;32mNone\u001b[0m\u001b[1;33m:\u001b[0m\u001b[1;33m\u001b[0m\u001b[1;33m\u001b[0m\u001b[0m\n\u001b[0;32m    762\u001b[0m         \u001b[0mlabels\u001b[0m \u001b[1;33m=\u001b[0m \u001b[0mensure_index\u001b[0m\u001b[1;33m(\u001b[0m\u001b[0mlabels\u001b[0m\u001b[1;33m)\u001b[0m\u001b[1;33m\u001b[0m\u001b[1;33m\u001b[0m\u001b[0m\n\u001b[1;32m--> 763\u001b[1;33m         \u001b[0mself\u001b[0m\u001b[1;33m.\u001b[0m\u001b[0m_mgr\u001b[0m\u001b[1;33m.\u001b[0m\u001b[0mset_axis\u001b[0m\u001b[1;33m(\u001b[0m\u001b[0maxis\u001b[0m\u001b[1;33m,\u001b[0m \u001b[0mlabels\u001b[0m\u001b[1;33m)\u001b[0m\u001b[1;33m\u001b[0m\u001b[1;33m\u001b[0m\u001b[0m\n\u001b[0m\u001b[0;32m    764\u001b[0m         \u001b[0mself\u001b[0m\u001b[1;33m.\u001b[0m\u001b[0m_clear_item_cache\u001b[0m\u001b[1;33m(\u001b[0m\u001b[1;33m)\u001b[0m\u001b[1;33m\u001b[0m\u001b[1;33m\u001b[0m\u001b[0m\n\u001b[0;32m    765\u001b[0m \u001b[1;33m\u001b[0m\u001b[0m\n",
      "\u001b[1;32m~\\Anaconda3\\lib\\site-packages\\pandas\\core\\internals\\managers.py\u001b[0m in \u001b[0;36mset_axis\u001b[1;34m(self, axis, new_labels)\u001b[0m\n\u001b[0;32m    214\u001b[0m     \u001b[1;32mdef\u001b[0m \u001b[0mset_axis\u001b[0m\u001b[1;33m(\u001b[0m\u001b[0mself\u001b[0m\u001b[1;33m,\u001b[0m \u001b[0maxis\u001b[0m\u001b[1;33m:\u001b[0m \u001b[0mint\u001b[0m\u001b[1;33m,\u001b[0m \u001b[0mnew_labels\u001b[0m\u001b[1;33m:\u001b[0m \u001b[0mIndex\u001b[0m\u001b[1;33m)\u001b[0m \u001b[1;33m->\u001b[0m \u001b[1;32mNone\u001b[0m\u001b[1;33m:\u001b[0m\u001b[1;33m\u001b[0m\u001b[1;33m\u001b[0m\u001b[0m\n\u001b[0;32m    215\u001b[0m         \u001b[1;31m# Caller is responsible for ensuring we have an Index object.\u001b[0m\u001b[1;33m\u001b[0m\u001b[1;33m\u001b[0m\u001b[1;33m\u001b[0m\u001b[0m\n\u001b[1;32m--> 216\u001b[1;33m         \u001b[0mself\u001b[0m\u001b[1;33m.\u001b[0m\u001b[0m_validate_set_axis\u001b[0m\u001b[1;33m(\u001b[0m\u001b[0maxis\u001b[0m\u001b[1;33m,\u001b[0m \u001b[0mnew_labels\u001b[0m\u001b[1;33m)\u001b[0m\u001b[1;33m\u001b[0m\u001b[1;33m\u001b[0m\u001b[0m\n\u001b[0m\u001b[0;32m    217\u001b[0m         \u001b[0mself\u001b[0m\u001b[1;33m.\u001b[0m\u001b[0maxes\u001b[0m\u001b[1;33m[\u001b[0m\u001b[0maxis\u001b[0m\u001b[1;33m]\u001b[0m \u001b[1;33m=\u001b[0m \u001b[0mnew_labels\u001b[0m\u001b[1;33m\u001b[0m\u001b[1;33m\u001b[0m\u001b[0m\n\u001b[0;32m    218\u001b[0m \u001b[1;33m\u001b[0m\u001b[0m\n",
      "\u001b[1;32m~\\Anaconda3\\lib\\site-packages\\pandas\\core\\internals\\base.py\u001b[0m in \u001b[0;36m_validate_set_axis\u001b[1;34m(self, axis, new_labels)\u001b[0m\n\u001b[0;32m     55\u001b[0m \u001b[1;33m\u001b[0m\u001b[0m\n\u001b[0;32m     56\u001b[0m         \u001b[1;32melif\u001b[0m \u001b[0mnew_len\u001b[0m \u001b[1;33m!=\u001b[0m \u001b[0mold_len\u001b[0m\u001b[1;33m:\u001b[0m\u001b[1;33m\u001b[0m\u001b[1;33m\u001b[0m\u001b[0m\n\u001b[1;32m---> 57\u001b[1;33m             raise ValueError(\n\u001b[0m\u001b[0;32m     58\u001b[0m                 \u001b[1;34mf\"Length mismatch: Expected axis has {old_len} elements, new \"\u001b[0m\u001b[1;33m\u001b[0m\u001b[1;33m\u001b[0m\u001b[0m\n\u001b[0;32m     59\u001b[0m                 \u001b[1;34mf\"values have {new_len} elements\"\u001b[0m\u001b[1;33m\u001b[0m\u001b[1;33m\u001b[0m\u001b[0m\n",
      "\u001b[1;31mValueError\u001b[0m: Length mismatch: Expected axis has 4 elements, new values have 6 elements"
     ]
    }
   ],
   "source": [
    "## change column names\n",
    "df_BTCtweets.columns = ['Id','Date', 'Code', 'Tweet', 'Tweetcount', 'Sentiment']"
   ]
  },
  {
   "cell_type": "code",
   "execution_count": null,
   "id": "0de950f6",
   "metadata": {},
   "outputs": [],
   "source": [
    "#check name change\n",
    "df_BTCtweets.head()"
   ]
  },
  {
   "cell_type": "code",
   "execution_count": null,
   "id": "7a7455d4",
   "metadata": {},
   "outputs": [],
   "source": [
    "# change to datetime\n",
    "df_BTCtweets.date = pd.to_datetime(df_BTCtweets.date)"
   ]
  },
  {
   "cell_type": "code",
   "execution_count": null,
   "id": "b53613c8",
   "metadata": {},
   "outputs": [],
   "source": [
    "# check if change worked\n",
    "df_BTCtweets.dtypes"
   ]
  },
  {
   "cell_type": "code",
   "execution_count": null,
   "id": "0892b94f",
   "metadata": {},
   "outputs": [],
   "source": [
    "# create a count column\n",
    "df_BTCtweets[\"tweetcount\"] = 1 "
   ]
  },
  {
   "cell_type": "code",
   "execution_count": null,
   "id": "3a6abdd4",
   "metadata": {},
   "outputs": [],
   "source": [
    "# check if worked\n",
    "df_BTCtweets.tail()"
   ]
  },
  {
   "cell_type": "markdown",
   "id": "0fd2a11c",
   "metadata": {},
   "source": [
    "### Count of tweets"
   ]
  },
  {
   "cell_type": "code",
   "execution_count": null,
   "id": "ca5bed78",
   "metadata": {},
   "outputs": [],
   "source": [
    "# create group by of count\n",
    "times = pd.to_datetime(df_BTCtweets.Date)\n",
    "grouped_dfBTCtweets = df_BTCtweets.groupby([times.dt.day, times.dt.hour, times.dt.minute]).Tweetcount.sum()"
   ]
  },
  {
   "cell_type": "code",
   "execution_count": null,
   "id": "06bf6d6d",
   "metadata": {},
   "outputs": [],
   "source": [
    "# check if worked\n",
    "grouped_dfBTCtweets"
   ]
  },
  {
   "cell_type": "code",
   "execution_count": null,
   "id": "30d4a950",
   "metadata": {},
   "outputs": [],
   "source": [
    "# create dataframe of groupby\n",
    "grouped_dfBTCtweets = pd.DataFrame(grouped_dfBTCtweets)"
   ]
  },
  {
   "cell_type": "code",
   "execution_count": null,
   "id": "feb17f48",
   "metadata": {},
   "outputs": [],
   "source": [
    "# create index\n",
    "grouped_dfBTCtweets.insert(0, 'ID', range(0, 57))"
   ]
  },
  {
   "cell_type": "code",
   "execution_count": null,
   "id": "27fb088c",
   "metadata": {},
   "outputs": [],
   "source": [
    "# check\n",
    "grouped_dfBTCtweets.head()"
   ]
  },
  {
   "cell_type": "markdown",
   "id": "66643077",
   "metadata": {},
   "source": [
    "### Sentiment analysis"
   ]
  },
  {
   "cell_type": "code",
   "execution_count": null,
   "id": "93504247",
   "metadata": {},
   "outputs": [],
   "source": [
    "# import library\n",
    "from textblob import TextBlob"
   ]
  },
  {
   "cell_type": "code",
   "execution_count": null,
   "id": "c701ef1b",
   "metadata": {},
   "outputs": [],
   "source": [
    "# apply sentiment\n",
    "df_BTCtweets['sentiment']=df_BTCtweets['tweet'].apply(lambda x: TextBlob(x).sentiment.polarity)"
   ]
  },
  {
   "cell_type": "code",
   "execution_count": null,
   "id": "887719a3",
   "metadata": {},
   "outputs": [],
   "source": [
    "# check \n",
    "df_BTCtweets.head()"
   ]
  },
  {
   "cell_type": "code",
   "execution_count": null,
   "id": "b0bac80d",
   "metadata": {},
   "outputs": [],
   "source": [
    "# calculate mean\n",
    "df_BTCtweets['sentiment'].mean()"
   ]
  },
  {
   "cell_type": "code",
   "execution_count": null,
   "id": "8e2d299a",
   "metadata": {},
   "outputs": [],
   "source": [
    "# group by function for average sentiment\n",
    "grouped_dfBTCtweets2 = df_BTCtweets.groupby([times.dt.day, times.dt.hour, times.dt.minute]).Sentiment.mean()"
   ]
  },
  {
   "cell_type": "code",
   "execution_count": null,
   "id": "32a55474",
   "metadata": {},
   "outputs": [],
   "source": [
    "# check \n",
    "grouped_dfBTCtweets2"
   ]
  },
  {
   "cell_type": "code",
   "execution_count": null,
   "id": "77685434",
   "metadata": {},
   "outputs": [],
   "source": [
    "# create dataframe of groupby\n",
    "grouped_dfBTCtweets2 = pd.DataFrame(grouped_dfBTCtweets2)"
   ]
  },
  {
   "cell_type": "code",
   "execution_count": null,
   "id": "b7f64d9e",
   "metadata": {},
   "outputs": [],
   "source": [
    "#check\n",
    "grouped_dfBTCtweets2.head()"
   ]
  },
  {
   "cell_type": "code",
   "execution_count": null,
   "id": "1070c396",
   "metadata": {},
   "outputs": [],
   "source": [
    "# create index\n",
    "grouped_dfBTCtweets2.insert(0, 'ID', range(0, 56))"
   ]
  },
  {
   "cell_type": "code",
   "execution_count": null,
   "id": "c3aae592",
   "metadata": {},
   "outputs": [],
   "source": [
    "grouped_dfBTCtweets2.head()"
   ]
  },
  {
   "cell_type": "markdown",
   "id": "6d692ebe",
   "metadata": {},
   "source": [
    "### Bitcoin history prices"
   ]
  },
  {
   "cell_type": "code",
   "execution_count": null,
   "id": "706f09fb",
   "metadata": {},
   "outputs": [],
   "source": [
    "## importing BTC historic prices tweets csv\n",
    "df_BTCprice = pd.read_csv (r\"C:\\Users\\nldersj1\\OneDrive - EY\\Documents\\Ironhack\\BTCpricedataFinal.csv\")"
   ]
  },
  {
   "cell_type": "code",
   "execution_count": null,
   "id": "b336dadf",
   "metadata": {},
   "outputs": [],
   "source": [
    "df_BTCprice.tail()"
   ]
  },
  {
   "cell_type": "code",
   "execution_count": null,
   "id": "57b561af",
   "metadata": {},
   "outputs": [],
   "source": [
    "# create index\n",
    "df_BTCprice.insert(0, 'ID', range(0, 56))"
   ]
  },
  {
   "cell_type": "code",
   "execution_count": null,
   "id": "5ce4cf34",
   "metadata": {},
   "outputs": [],
   "source": [
    "df_BTCprice.head()"
   ]
  },
  {
   "cell_type": "markdown",
   "id": "1b04fe97",
   "metadata": {},
   "source": [
    "### Concat dataframes "
   ]
  },
  {
   "cell_type": "code",
   "execution_count": null,
   "id": "f96aa15e",
   "metadata": {},
   "outputs": [],
   "source": [
    "## concat tweetcount and sentiment\n",
    "df1 = pd.merge(grouped_dfBTCtweets, grouped_dfBTCtweets2, on=['ID',  'ID'])"
   ]
  },
  {
   "cell_type": "code",
   "execution_count": null,
   "id": "2df26b7e",
   "metadata": {},
   "outputs": [],
   "source": [
    "df1.head()"
   ]
  },
  {
   "cell_type": "code",
   "execution_count": null,
   "id": "bd5fc2a6",
   "metadata": {},
   "outputs": [],
   "source": [
    "## concat bitcoin price with sentiment/tweetcount\n",
    "df_final = pd.merge(df1, df_BTCprice, on =['ID',  'ID'])"
   ]
  },
  {
   "cell_type": "code",
   "execution_count": null,
   "id": "1f26c9cb",
   "metadata": {},
   "outputs": [],
   "source": [
    "df_final.head()"
   ]
  },
  {
   "cell_type": "code",
   "execution_count": null,
   "id": "5fb9985a",
   "metadata": {},
   "outputs": [],
   "source": [
    "# drop columns used for join\n",
    "df_final = df_final.drop(columns=['ID', 'id'])"
   ]
  },
  {
   "cell_type": "code",
   "execution_count": null,
   "id": "f3f061b6",
   "metadata": {},
   "outputs": [],
   "source": [
    "# export to csv\n",
    "df_final.to_csv(\"completedataframe.csv\")"
   ]
  }
 ],
 "metadata": {
  "kernelspec": {
   "display_name": "Python 3",
   "language": "python",
   "name": "python3"
  },
  "language_info": {
   "codemirror_mode": {
    "name": "ipython",
    "version": 3
   },
   "file_extension": ".py",
   "mimetype": "text/x-python",
   "name": "python",
   "nbconvert_exporter": "python",
   "pygments_lexer": "ipython3",
   "version": "3.8.10"
  }
 },
 "nbformat": 4,
 "nbformat_minor": 5
}
